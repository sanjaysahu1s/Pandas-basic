{
 "cells": [
  {
   "cell_type": "markdown",
   "id": "847adbb7-db76-4977-981e-bb4bb638709c",
   "metadata": {},
   "source": [
    "Q1. Create a Pandas Series that contains the following data: 4, 8, 15, 16, 23, and 42. Then, print the series."
   ]
  },
  {
   "cell_type": "code",
   "execution_count": 1,
   "id": "1dbda8fc-8a4a-447f-ad95-a5be9ad0ea5a",
   "metadata": {},
   "outputs": [
    {
     "name": "stdout",
     "output_type": "stream",
     "text": [
      "0     4\n",
      "1     8\n",
      "2    15\n",
      "3    16\n",
      "4    23\n",
      "5    42\n",
      "dtype: int64\n"
     ]
    }
   ],
   "source": [
    "#Answer\n",
    "\n",
    "import pandas as pd\n",
    "\n",
    "data = [4, 8, 15, 16, 23, 42]\n",
    "series = pd.Series(data)\n",
    "print(series)\n"
   ]
  },
  {
   "cell_type": "markdown",
   "id": "d768ab2e-88b4-43b3-a1dd-6c72edbb4923",
   "metadata": {},
   "source": [
    "                      -------------------------------------------------------------------"
   ]
  },
  {
   "cell_type": "markdown",
   "id": "491180f2-5135-481c-9aa5-c7f7f6e92a5f",
   "metadata": {},
   "source": [
    "Q2. Create a variable of list type containing 10 elements in it, and apply pandas.Series function on the\n",
    "variable print it."
   ]
  },
  {
   "cell_type": "code",
   "execution_count": 8,
   "id": "83aa704a-fa4b-4e0c-9a2f-a27f0a2527f2",
   "metadata": {},
   "outputs": [
    {
     "name": "stdout",
     "output_type": "stream",
     "text": [
      "0     1\n",
      "1     5\n",
      "2     5\n",
      "3    41\n",
      "4     6\n",
      "5     4\n",
      "6     2\n",
      "7     4\n",
      "8     4\n",
      "9     8\n",
      "dtype: int64\n"
     ]
    }
   ],
   "source": [
    "#Answer\n",
    "\n",
    "import pandas as pd\n",
    "\n",
    "variable = [1,5,5,41,6,4,2,4,4,8]\n",
    "series = pd.Series(variable)\n",
    "print(series)    "
   ]
  },
  {
   "cell_type": "markdown",
   "id": "61e7fe27-1fe2-442b-9990-ddf2b4958328",
   "metadata": {},
   "source": [
    "                      -------------------------------------------------------------------"
   ]
  },
  {
   "cell_type": "markdown",
   "id": "ee58e8fc-6392-4da0-a0c9-2443f93e661c",
   "metadata": {},
   "source": [
    "Q3. Create a Pandas DataFrame that contains the following data:\n",
    "\n",
    "Name\n",
    "Alice\n",
    "Bob\n",
    "Claire\n",
    "\n",
    "Age\n",
    "25\n",
    "30\n",
    "27\n",
    "\n",
    "Gender\n",
    "Female\n",
    "Male\n",
    "Female\n",
    "\n",
    "Then, print the DataFrame."
   ]
  },
  {
   "cell_type": "code",
   "execution_count": 11,
   "id": "c4a31648-0450-4cfb-939c-2fdc5b78a13c",
   "metadata": {},
   "outputs": [
    {
     "name": "stdout",
     "output_type": "stream",
     "text": [
      "     Name  Age  Gender\n",
      "0   Alice   25  Female\n",
      "1     Bob   30    Male\n",
      "2  Claire   27  Female\n"
     ]
    }
   ],
   "source": [
    "#Answer\n",
    "\n",
    "import pandas as pd\n",
    "\n",
    "data = {\n",
    "    'Name': ['Alice', 'Bob', 'Claire'],\n",
    "    'Age': [25, 30, 27],\n",
    "    'Gender': ['Female', 'Male', 'Female']\n",
    "}\n",
    "\n",
    "df = pd.DataFrame(data)\n",
    "print(df)\n"
   ]
  },
  {
   "cell_type": "markdown",
   "id": "ab68aa9b-06e7-48ba-9454-ab662e3c7fc2",
   "metadata": {},
   "source": [
    "                      -------------------------------------------------------------------"
   ]
  },
  {
   "cell_type": "markdown",
   "id": "603d8454-0f91-4c58-9047-9330eaa2c9b0",
   "metadata": {},
   "source": [
    "Q4. What is ‘DataFrame’ in pandas and how is it different from pandas.series? Explain with an example."
   ]
  },
  {
   "cell_type": "markdown",
   "id": "68a22a5b-1981-4591-8cb7-9bae2b6ec879",
   "metadata": {},
   "source": [
    "#Answer\n",
    "\n",
    "In Pandas, a DataFrame is a two-dimensional labeled data structure that represents a tabular data object. It is similar to a table in a relational database or a spreadsheet, where data is organized in rows and columns. The DataFrame allows for easy manipulation, analysis, and transformation of data.\n",
    "\n",
    "A DataFrame can be thought of as a collection of Pandas Series objects. Each column in a DataFrame is a Series, and the columns share a common index. This means that a DataFrame can store and handle multiple types of data, including numeric, string, and categorical data."
   ]
  },
  {
   "cell_type": "code",
   "execution_count": 12,
   "id": "d7b3aba5-25d4-4229-adf0-3b13220dd448",
   "metadata": {},
   "outputs": [
    {
     "name": "stdout",
     "output_type": "stream",
     "text": [
      "0     4\n",
      "1     8\n",
      "2    15\n",
      "3    16\n",
      "4    23\n",
      "5    42\n",
      "dtype: int64\n",
      "   Numbers Letters\n",
      "0        4       A\n",
      "1        8       B\n",
      "2       15       C\n",
      "3       16       D\n",
      "4       23       E\n",
      "5       42       F\n"
     ]
    }
   ],
   "source": [
    "#Example\n",
    "\n",
    "\n",
    "import pandas as pd\n",
    "\n",
    "# Creating a Series\n",
    "series = pd.Series([4, 8, 15, 16, 23, 42])\n",
    "print(series)\n",
    "\n",
    "# Creating a DataFrame\n",
    "data = {\n",
    "    'Numbers': [4, 8, 15, 16, 23, 42],\n",
    "    'Letters': ['A', 'B', 'C', 'D', 'E', 'F']\n",
    "}\n",
    "df = pd.DataFrame(data)\n",
    "print(df)\n"
   ]
  },
  {
   "cell_type": "markdown",
   "id": "169d19d2-bdfe-4023-a68c-cd26e17f45a5",
   "metadata": {},
   "source": [
    "So, the key difference is that a Series is a one-dimensional data structure, whereas a DataFrame is a two-dimensional data structure that consists of multiple Series arranged in columns. The DataFrame provides more flexibility and functionality for handling and analyzing structured data."
   ]
  },
  {
   "cell_type": "markdown",
   "id": "cefbaf43-6ff9-49ad-b189-2a56c6f188e8",
   "metadata": {},
   "source": [
    "                      -------------------------------------------------------------------"
   ]
  },
  {
   "cell_type": "markdown",
   "id": "d83dbde1-120b-428e-9820-73b17987c381",
   "metadata": {},
   "source": [
    "Q5. What are some common functions you can use to manipulate data in a Pandas DataFrame? Can\n",
    "you give an example of when you might use one of these functions?"
   ]
  },
  {
   "cell_type": "markdown",
   "id": "580ca390-d90d-4bc0-9309-105d94ec5ed2",
   "metadata": {},
   "source": [
    "#Answer\n",
    "\n",
    "Pandas provides a wide range of functions to manipulate data in a DataFrame. Here are some common functions:\n",
    "\n",
    "1. head() and tail(): These functions allow you to view the first few rows (head) or the last few rows (tail) of a DataFrame. They are useful for quickly inspecting the structure and contents of a DataFrame.\n",
    "\n",
    "2. info(): The info() function provides a summary of the DataFrame, including the data types, non-null counts, and memory usage. It helps in understanding the overall structure and characteristics of the DataFrame.\n",
    "\n",
    "3. describe(): The describe() function generates descriptive statistics of the DataFrame, such as count, mean, standard deviation, minimum, maximum, and quartile values. It provides insights into the distribution and summary statistics of numerical columns.\n",
    "\n",
    "4. shape: The shape attribute returns a tuple representing the dimensions of the DataFrame (number of rows, number of columns). It is useful to quickly check the size of the DataFrame.\n",
    "\n",
    "5. loc[] and iloc[]: These are indexing functions used to access and manipulate specific rows and columns of a DataFrame. loc[] is label-based indexing, whereas iloc[] is integer-based indexing.\n",
    "\n",
    "6. drop(): The drop() function allows you to remove rows or columns from a DataFrame. It is useful when you want to eliminate unnecessary data or handle missing values.\n",
    "\n",
    "7. fillna(): The fillna() function is used to fill missing values in a DataFrame with a specified value or using various filling strategies, such as forward-fill or backward-fill.\n",
    "\n",
    "8. sort_values(): The sort_values() function sorts the DataFrame based on one or more columns. It is useful for arranging the data in a specific order, such as sorting by a numerical column or sorting alphabetically by a string column.\n",
    "\n",
    "9. groupby(): The groupby() function is used for grouping data based on one or more columns. It allows you to perform aggregations, transformations, or analysis on subsets of data.\n",
    "\n",
    "10. merge(): The merge() function is used to combine multiple DataFrames based on a common column or index. It is useful when you need to merge data from different sources or perform relational-style database joins."
   ]
  },
  {
   "cell_type": "code",
   "execution_count": 13,
   "id": "4573d4df-1a46-4ef5-bdd4-749794f1777b",
   "metadata": {},
   "outputs": [
    {
     "name": "stdout",
     "output_type": "stream",
     "text": [
      "Category\n",
      "X    370\n",
      "Y    750\n",
      "Name: Sales, dtype: int64\n"
     ]
    }
   ],
   "source": [
    "import pandas as pd\n",
    "\n",
    "data = {\n",
    "    'Product': ['A', 'B', 'A', 'B', 'A', 'B'],\n",
    "    'Category': ['X', 'Y', 'X', 'Y', 'X', 'Y'],\n",
    "    'Sales': [100, 200, 150, 300, 120, 250]\n",
    "}\n",
    "\n",
    "df = pd.DataFrame(data)\n",
    "total_sales = df.groupby('Category')['Sales'].sum()\n",
    "print(total_sales)\n"
   ]
  },
  {
   "cell_type": "markdown",
   "id": "4bd56842-96dd-463e-9a53-abe5f7acc2c6",
   "metadata": {},
   "source": [
    "                       -------------------------------------------------------------------"
   ]
  },
  {
   "cell_type": "markdown",
   "id": "e5cfcd8a-e250-42a7-8424-c3a5f8fe7a69",
   "metadata": {},
   "source": [
    "Q6. Which of the following is mutable in nature Series, DataFrame, Panel?"
   ]
  },
  {
   "cell_type": "markdown",
   "id": "99cb767d-e886-4586-937e-b12081be28ab",
   "metadata": {},
   "source": [
    "#Answer\n",
    "\n",
    "Among the options given, both Series and DataFrame are mutable in nature, while Panel is not. \n",
    "\n",
    "1. Series: A Series in Pandas is mutable, meaning you can modify its values, add or remove elements, or change its properties after it has been created. For example, you can update a specific value in a Series by accessing its index and assigning a new value.\n",
    "\n",
    "2. DataFrame: Similarly, a DataFrame in Pandas is also mutable. You can modify its data, add or remove rows and columns, change column names, and perform various data manipulation operations. You can update values in specific cells, append or delete rows, and perform other modifications to the DataFrame.\n",
    "\n",
    "3. Panel: A Panel in Pandas is an n-dimensional data structure, similar to a three-dimensional array. However, Panels have been deprecated since Pandas version 0.20.0 and are no longer recommended for use. Panels were mutable, but due to limited usage and the introduction of more flexible data structures like Series and DataFrame, Panels have been phased out. As a result, Panels are not recommended for new projects, and the DataFrame is generally used for handling multidimensional data.\n",
    "\n",
    "To summarize, both Series and DataFrame are mutable in nature, while Panel is no longer recommended and is considered deprecated."
   ]
  },
  {
   "cell_type": "markdown",
   "id": "c195c9bd-aba6-49ad-a195-6b541eb54fb2",
   "metadata": {},
   "source": [
    "                        -------------------------------------------------------------------"
   ]
  },
  {
   "cell_type": "markdown",
   "id": "b7a01b62-f145-4367-8b0f-ff7979116e9e",
   "metadata": {},
   "source": [
    "Q7. Create a DataFrame using multiple Series. Explain with an example."
   ]
  },
  {
   "cell_type": "markdown",
   "id": "9a9dd360-21e6-435e-b585-8465102cbf73",
   "metadata": {},
   "source": [
    "You can create a DataFrame using multiple Series by combining them using the `pd.concat()` function or by passing them as a dictionary to the `pd.DataFrame()` constructor. Here's an example of creating a DataFrame using multiple Series:"
   ]
  },
  {
   "cell_type": "code",
   "execution_count": 14,
   "id": "09eb77a0-a668-43be-9a0a-fc92008068a1",
   "metadata": {},
   "outputs": [
    {
     "name": "stdout",
     "output_type": "stream",
     "text": [
      "     Name  Age  Gender\n",
      "0   Alice   25  Female\n",
      "1     Bob   30    Male\n",
      "2  Claire   27  Female\n"
     ]
    }
   ],
   "source": [
    "import pandas as pd\n",
    "\n",
    "# Create the Series\n",
    "names = pd.Series(['Alice', 'Bob', 'Claire'])\n",
    "ages = pd.Series([25, 30, 27])\n",
    "genders = pd.Series(['Female', 'Male', 'Female'])\n",
    "\n",
    "# Combine the Series into a DataFrame\n",
    "df = pd.DataFrame({'Name': names, 'Age': ages, 'Gender': genders})\n",
    "print(df)\n",
    "\n"
   ]
  },
  {
   "cell_type": "markdown",
   "id": "37e2eccc-c24c-4379-b53a-cfc8175b4b1b",
   "metadata": {},
   "source": [
    "                        -------------------------------------------------------------------"
   ]
  }
 ],
 "metadata": {
  "kernelspec": {
   "display_name": "Python 3 (ipykernel)",
   "language": "python",
   "name": "python3"
  },
  "language_info": {
   "codemirror_mode": {
    "name": "ipython",
    "version": 3
   },
   "file_extension": ".py",
   "mimetype": "text/x-python",
   "name": "python",
   "nbconvert_exporter": "python",
   "pygments_lexer": "ipython3",
   "version": "3.10.8"
  }
 },
 "nbformat": 4,
 "nbformat_minor": 5
}
